{
 "cells": [
  {
   "cell_type": "markdown",
   "metadata": {},
   "source": [
    "## 1. Complete the following code to find the area of an equilateral triangle. Output should be as displayed"
   ]
  },
  {
   "cell_type": "code",
   "execution_count": 1,
   "metadata": {},
   "outputs": [
    {
     "name": "stdout",
     "output_type": "stream",
     "text": [
      "Enter the side of the equilateral triangle: 5\n",
      "Area =  10.825\n"
     ]
    }
   ],
   "source": [
    "import math\n",
    "side = float(input(\"Enter the side of the equilateral triangle: \"))\n",
    "area = ((math.sqrt(3))/4)*pow(side,2)\n",
    "print('Area = ',round(area,3))\n"
   ]
  },
  {
   "cell_type": "markdown",
   "metadata": {},
   "source": [
    "## 2. Write a program to count the number of each characters in a string"
   ]
  },
  {
   "cell_type": "code",
   "execution_count": 2,
   "metadata": {},
   "outputs": [
    {
     "name": "stdout",
     "output_type": "stream",
     "text": [
      "Enter a string : data analytics\n",
      "d = 1\n",
      "a = 4\n",
      "t = 2\n",
      "n = 1\n",
      "l = 1\n",
      "y = 1\n",
      "i = 1\n",
      "c = 1\n",
      "s = 1\n"
     ]
    }
   ],
   "source": [
    "l = list(input(\"Enter a string : \"))\n",
    "l1 = []\n",
    "for i in l:\n",
    "  if i not in l1 and i != ' ': #to add unique char in l to l1 and to avoid spaces \n",
    "    l1 += i\n",
    "for i in l1:\n",
    "  print(i , \"=\",l.count(i))"
   ]
  },
  {
   "cell_type": "markdown",
   "metadata": {},
   "source": [
    "## 3. Write a program to find the area and perimeter of a rectangle using functions"
   ]
  },
  {
   "cell_type": "code",
   "execution_count": 4,
   "metadata": {},
   "outputs": [
    {
     "name": "stdout",
     "output_type": "stream",
     "text": [
      "Enter the length of the rectangle: 3\n",
      "Enter the breadth of the rectangle: 4\n",
      "Area of rectangle with length  3.0  and breadth  4.0  is  12.0\n",
      "Perimeter of rectangle with length  3.0  and breadth  4.0  is  14.0\n"
     ]
    }
   ],
   "source": [
    "def area_perimeter_rectangle():\n",
    "    l=float(input('Enter the length of the rectangle: '))\n",
    "    b=float(input('Enter the breadth of the rectangle: '))\n",
    "    print('Area of rectangle with length ',l,' and breadth ',b,' is ',(l*b))\n",
    "    print('Perimeter of rectangle with length ',l,' and breadth ',b,' is ',2*(l+b))\n",
    "area_perimeter_rectangle()"
   ]
  },
  {
   "cell_type": "markdown",
   "metadata": {},
   "source": [
    "## 4. Write a program to print the fibonacci series till a specified number"
   ]
  },
  {
   "cell_type": "code",
   "execution_count": 5,
   "metadata": {},
   "outputs": [
    {
     "name": "stdout",
     "output_type": "stream",
     "text": [
      "Enter the number: 21\n",
      "Fibonacci Series: 0 1 1 2 3 5 8 13 21 "
     ]
    }
   ],
   "source": [
    "n=int(input('Enter the number: '))\n",
    "print(\"Fibonacci Series:\", end = ' ')\n",
    "a,b,c=0,1,0\n",
    "while c<=n:\n",
    "    print(c,end=' ')\n",
    "    a=b\n",
    "    b=c\n",
    "    c=a+b"
   ]
  },
  {
   "cell_type": "markdown",
   "metadata": {},
   "source": [
    "## 5. Complete the following code to find the minimum of 3 number using conditional statements. Output should be as displayed"
   ]
  },
  {
   "cell_type": "code",
   "execution_count": 6,
   "metadata": {
    "scrolled": true
   },
   "outputs": [
    {
     "name": "stdout",
     "output_type": "stream",
     "text": [
      "Enter three numbers followed by  : -19 -100 -9\n",
      "First number : -19\n",
      "Second number : -100\n",
      "Third number : -9\n",
      "-100  is smallest\n"
     ]
    }
   ],
   "source": [
    "a,b,c = input(\"Enter three numbers followed by  : \").split()\n",
    "\n",
    "print(\"First number :\",a)\n",
    "print(\"Second number :\",b)\n",
    "print(\"Third number :\",c)\n",
    "if a==b==c:\n",
    "    print(\"Entered numbers are equal!!!\")\n",
    "elif a==min(a,b,c):\n",
    "    print(a,\" is smallest\")\n",
    "elif b==min(a,b,c):\n",
    "    print(b,\" is smallest\")\n",
    "else:\n",
    "    print(c,\" is smallest\")"
   ]
  },
  {
   "cell_type": "markdown",
   "metadata": {},
   "source": [
    "## 6. Write a program to print star pyramind. The number of rows should be taken as input from the user"
   ]
  },
  {
   "cell_type": "code",
   "execution_count": 7,
   "metadata": {},
   "outputs": [
    {
     "name": "stdout",
     "output_type": "stream",
     "text": [
      "Enter the number of rows of the star pyramid: 5\n",
      "     * \n",
      "    * * \n",
      "   * * * \n",
      "  * * * * \n",
      " * * * * * \n"
     ]
    }
   ],
   "source": [
    "n=int(input('Enter the number of rows of the star pyramid: '))\n",
    "for i in range(1,n+1):\n",
    "  print(' '*(n-i),\"* \"*i)"
   ]
  },
  {
   "cell_type": "markdown",
   "metadata": {},
   "source": [
    "## 7. Complete the following code to convert hour into seconds. Output should be as displayed"
   ]
  },
  {
   "cell_type": "code",
   "execution_count": 8,
   "metadata": {},
   "outputs": [
    {
     "name": "stdout",
     "output_type": "stream",
     "text": [
      "Enter time in Hours : 24\n",
      "24  Hour is equal to 86400  Seconds\n"
     ]
    }
   ],
   "source": [
    "def to_seconds(t):\n",
    "    return t*3600\n",
    "time_in_hours =int(input('Enter time in Hours : '))\n",
    "print(time_in_hours ,\" Hour is equal to\" ,to_seconds(time_in_hours) ,\" Seconds\")"
   ]
  },
  {
   "cell_type": "markdown",
   "metadata": {},
   "source": [
    "## 8. Write a program to print multiplication table as below"
   ]
  },
  {
   "cell_type": "code",
   "execution_count": 9,
   "metadata": {},
   "outputs": [
    {
     "name": "stdout",
     "output_type": "stream",
     "text": [
      "Enter a number to find the multiplication table: 67\n",
      "1  X  67  =  67\n",
      "2  X  67  =  134\n",
      "3  X  67  =  201\n",
      "4  X  67  =  268\n",
      "5  X  67  =  335\n",
      "6  X  67  =  402\n",
      "7  X  67  =  469\n",
      "8  X  67  =  536\n",
      "9  X  67  =  603\n",
      "10  X  67  =  670\n"
     ]
    }
   ],
   "source": [
    "num=int(input('Enter a number to find the multiplication table: '))\n",
    "for i in range(1,11):\n",
    "    print(i,' X ',num,' = ',i*num)\n",
    "    "
   ]
  },
  {
   "cell_type": "markdown",
   "metadata": {},
   "source": [
    "## 9. Write a program to take your 5 favorite food as list and print each as 'I like Biriyani'"
   ]
  },
  {
   "cell_type": "code",
   "execution_count": 11,
   "metadata": {},
   "outputs": [
    {
     "name": "stdout",
     "output_type": "stream",
     "text": [
      "Enter your favourite five foods separated by a space: Biriyani Chicken Noodles Rice Biscuit\n",
      "I like  Biriyani\n",
      "I like  Chicken\n",
      "I like  Noodles\n",
      "I like  Rice\n",
      "I like  Biscuit\n"
     ]
    }
   ],
   "source": [
    "food_list=input('Enter your favourite five foods separated by a space: ').split()\n",
    "for i in food_list:\n",
    "    print('I like ',i)"
   ]
  },
  {
   "cell_type": "code",
   "execution_count": null,
   "metadata": {},
   "outputs": [],
   "source": []
  },
  {
   "cell_type": "code",
   "execution_count": null,
   "metadata": {},
   "outputs": [],
   "source": []
  }
 ],
 "metadata": {
  "kernelspec": {
   "display_name": "Python 3",
   "language": "python",
   "name": "python3"
  },
  "language_info": {
   "codemirror_mode": {
    "name": "ipython",
    "version": 3
   },
   "file_extension": ".py",
   "mimetype": "text/x-python",
   "name": "python",
   "nbconvert_exporter": "python",
   "pygments_lexer": "ipython3",
   "version": "3.8.8"
  }
 },
 "nbformat": 4,
 "nbformat_minor": 4
}
